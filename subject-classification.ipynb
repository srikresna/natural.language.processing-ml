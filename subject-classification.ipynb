{
  "nbformat": 4,
  "nbformat_minor": 0,
  "metadata": {
    "colab": {
      "provenance": []
    },
    "kernelspec": {
      "name": "python3",
      "display_name": "Python 3"
    },
    "language_info": {
      "name": "python"
    },
    "gpuClass": "standard",
    "accelerator": "TPU"
  },
  "cells": [
    {
      "cell_type": "markdown",
      "source": [
        "<h1>QUESTION SUBJECT DETECTION</h1>\n",
        "The model in this project can read and detect a sentence that has been input. This model will determine which sentence is part of what subject. This model will be useful for use by librarians in sorting books based on just a piece of content. Or useful for other people related to education.\n",
        "\n",
        "<h2> ABOUT DATASET </h5>\n",
        "<h5>IITJEE NEET AIIMS Students Questions Data</h5>\n",
        "Subject classification from Questions\n",
        "\n",
        "* https://www.kaggle.com/datasets/mrutyunjaybiswal/iitjee-neet-aims-students-questions-data\n",
        "\n",
        "In India, every year lacs of students sit for competitive examinations like JEE Advanced, JEE Mains, NEET, etc. These exams are said to be the gateway to get admission into India's premier Institutes such as IITs, NITs, AIIMS, etc. Keeping in mind that the competition is tough as lacs of students appear for these examinations, there has been an enormous development in Ed Tech Industry in India, fortuning the dreams of lacs of aspirants via providing online as well as offline coaching, mentoring, etc. This particular dataset consists of questions/doubts raised by students preparing for such examinations.\n",
        "\n",
        "Content\n",
        "The dataset contains Students-questions.csv file in version 1 as of now.\n",
        "Inside the CSV file, we have two columns:\n",
        "\n",
        "* eng: The full question or description of the questions\n",
        "* Subject: Which subject does the question belong to. It has 4 classes, Physics, Chemistry, Biology, and Mathematics.\n"
      ],
      "metadata": {
        "id": "aS9n0gCWx4iy"
      }
    },
    {
      "cell_type": "markdown",
      "source": [
        "<h1> WHAT ARE YOU WAITING FOR? LET'S GO!!"
      ],
      "metadata": {
        "id": "8-6jpzQ70Z3Z"
      }
    },
    {
      "cell_type": "markdown",
      "source": [
        "Donwload Dataset from Kaggle"
      ],
      "metadata": {
        "id": "5E3Oeci1xKkd"
      }
    },
    {
      "cell_type": "code",
      "execution_count": 1,
      "metadata": {
        "id": "8GLCD6C5BS8o"
      },
      "outputs": [],
      "source": [
        "!pip install -q kaggle"
      ]
    },
    {
      "cell_type": "code",
      "source": [
        "from google.colab import files\n",
        "files.upload()"
      ],
      "metadata": {
        "colab": {
          "base_uri": "https://localhost:8080/",
          "height": 90
        },
        "id": "l1IcayVKBcce",
        "outputId": "99916984-41b9-4f97-94d0-94a1d20cc0e5"
      },
      "execution_count": 2,
      "outputs": [
        {
          "output_type": "display_data",
          "data": {
            "text/plain": [
              "<IPython.core.display.HTML object>"
            ],
            "text/html": [
              "\n",
              "     <input type=\"file\" id=\"files-87089520-2c9e-4b52-b2e7-25e91f47f89f\" name=\"files[]\" multiple disabled\n",
              "        style=\"border:none\" />\n",
              "     <output id=\"result-87089520-2c9e-4b52-b2e7-25e91f47f89f\">\n",
              "      Upload widget is only available when the cell has been executed in the\n",
              "      current browser session. Please rerun this cell to enable.\n",
              "      </output>\n",
              "      <script>// Copyright 2017 Google LLC\n",
              "//\n",
              "// Licensed under the Apache License, Version 2.0 (the \"License\");\n",
              "// you may not use this file except in compliance with the License.\n",
              "// You may obtain a copy of the License at\n",
              "//\n",
              "//      http://www.apache.org/licenses/LICENSE-2.0\n",
              "//\n",
              "// Unless required by applicable law or agreed to in writing, software\n",
              "// distributed under the License is distributed on an \"AS IS\" BASIS,\n",
              "// WITHOUT WARRANTIES OR CONDITIONS OF ANY KIND, either express or implied.\n",
              "// See the License for the specific language governing permissions and\n",
              "// limitations under the License.\n",
              "\n",
              "/**\n",
              " * @fileoverview Helpers for google.colab Python module.\n",
              " */\n",
              "(function(scope) {\n",
              "function span(text, styleAttributes = {}) {\n",
              "  const element = document.createElement('span');\n",
              "  element.textContent = text;\n",
              "  for (const key of Object.keys(styleAttributes)) {\n",
              "    element.style[key] = styleAttributes[key];\n",
              "  }\n",
              "  return element;\n",
              "}\n",
              "\n",
              "// Max number of bytes which will be uploaded at a time.\n",
              "const MAX_PAYLOAD_SIZE = 100 * 1024;\n",
              "\n",
              "function _uploadFiles(inputId, outputId) {\n",
              "  const steps = uploadFilesStep(inputId, outputId);\n",
              "  const outputElement = document.getElementById(outputId);\n",
              "  // Cache steps on the outputElement to make it available for the next call\n",
              "  // to uploadFilesContinue from Python.\n",
              "  outputElement.steps = steps;\n",
              "\n",
              "  return _uploadFilesContinue(outputId);\n",
              "}\n",
              "\n",
              "// This is roughly an async generator (not supported in the browser yet),\n",
              "// where there are multiple asynchronous steps and the Python side is going\n",
              "// to poll for completion of each step.\n",
              "// This uses a Promise to block the python side on completion of each step,\n",
              "// then passes the result of the previous step as the input to the next step.\n",
              "function _uploadFilesContinue(outputId) {\n",
              "  const outputElement = document.getElementById(outputId);\n",
              "  const steps = outputElement.steps;\n",
              "\n",
              "  const next = steps.next(outputElement.lastPromiseValue);\n",
              "  return Promise.resolve(next.value.promise).then((value) => {\n",
              "    // Cache the last promise value to make it available to the next\n",
              "    // step of the generator.\n",
              "    outputElement.lastPromiseValue = value;\n",
              "    return next.value.response;\n",
              "  });\n",
              "}\n",
              "\n",
              "/**\n",
              " * Generator function which is called between each async step of the upload\n",
              " * process.\n",
              " * @param {string} inputId Element ID of the input file picker element.\n",
              " * @param {string} outputId Element ID of the output display.\n",
              " * @return {!Iterable<!Object>} Iterable of next steps.\n",
              " */\n",
              "function* uploadFilesStep(inputId, outputId) {\n",
              "  const inputElement = document.getElementById(inputId);\n",
              "  inputElement.disabled = false;\n",
              "\n",
              "  const outputElement = document.getElementById(outputId);\n",
              "  outputElement.innerHTML = '';\n",
              "\n",
              "  const pickedPromise = new Promise((resolve) => {\n",
              "    inputElement.addEventListener('change', (e) => {\n",
              "      resolve(e.target.files);\n",
              "    });\n",
              "  });\n",
              "\n",
              "  const cancel = document.createElement('button');\n",
              "  inputElement.parentElement.appendChild(cancel);\n",
              "  cancel.textContent = 'Cancel upload';\n",
              "  const cancelPromise = new Promise((resolve) => {\n",
              "    cancel.onclick = () => {\n",
              "      resolve(null);\n",
              "    };\n",
              "  });\n",
              "\n",
              "  // Wait for the user to pick the files.\n",
              "  const files = yield {\n",
              "    promise: Promise.race([pickedPromise, cancelPromise]),\n",
              "    response: {\n",
              "      action: 'starting',\n",
              "    }\n",
              "  };\n",
              "\n",
              "  cancel.remove();\n",
              "\n",
              "  // Disable the input element since further picks are not allowed.\n",
              "  inputElement.disabled = true;\n",
              "\n",
              "  if (!files) {\n",
              "    return {\n",
              "      response: {\n",
              "        action: 'complete',\n",
              "      }\n",
              "    };\n",
              "  }\n",
              "\n",
              "  for (const file of files) {\n",
              "    const li = document.createElement('li');\n",
              "    li.append(span(file.name, {fontWeight: 'bold'}));\n",
              "    li.append(span(\n",
              "        `(${file.type || 'n/a'}) - ${file.size} bytes, ` +\n",
              "        `last modified: ${\n",
              "            file.lastModifiedDate ? file.lastModifiedDate.toLocaleDateString() :\n",
              "                                    'n/a'} - `));\n",
              "    const percent = span('0% done');\n",
              "    li.appendChild(percent);\n",
              "\n",
              "    outputElement.appendChild(li);\n",
              "\n",
              "    const fileDataPromise = new Promise((resolve) => {\n",
              "      const reader = new FileReader();\n",
              "      reader.onload = (e) => {\n",
              "        resolve(e.target.result);\n",
              "      };\n",
              "      reader.readAsArrayBuffer(file);\n",
              "    });\n",
              "    // Wait for the data to be ready.\n",
              "    let fileData = yield {\n",
              "      promise: fileDataPromise,\n",
              "      response: {\n",
              "        action: 'continue',\n",
              "      }\n",
              "    };\n",
              "\n",
              "    // Use a chunked sending to avoid message size limits. See b/62115660.\n",
              "    let position = 0;\n",
              "    do {\n",
              "      const length = Math.min(fileData.byteLength - position, MAX_PAYLOAD_SIZE);\n",
              "      const chunk = new Uint8Array(fileData, position, length);\n",
              "      position += length;\n",
              "\n",
              "      const base64 = btoa(String.fromCharCode.apply(null, chunk));\n",
              "      yield {\n",
              "        response: {\n",
              "          action: 'append',\n",
              "          file: file.name,\n",
              "          data: base64,\n",
              "        },\n",
              "      };\n",
              "\n",
              "      let percentDone = fileData.byteLength === 0 ?\n",
              "          100 :\n",
              "          Math.round((position / fileData.byteLength) * 100);\n",
              "      percent.textContent = `${percentDone}% done`;\n",
              "\n",
              "    } while (position < fileData.byteLength);\n",
              "  }\n",
              "\n",
              "  // All done.\n",
              "  yield {\n",
              "    response: {\n",
              "      action: 'complete',\n",
              "    }\n",
              "  };\n",
              "}\n",
              "\n",
              "scope.google = scope.google || {};\n",
              "scope.google.colab = scope.google.colab || {};\n",
              "scope.google.colab._files = {\n",
              "  _uploadFiles,\n",
              "  _uploadFilesContinue,\n",
              "};\n",
              "})(self);\n",
              "</script> "
            ]
          },
          "metadata": {}
        },
        {
          "output_type": "stream",
          "name": "stdout",
          "text": [
            "Saving kaggle.json to kaggle.json\n"
          ]
        },
        {
          "output_type": "execute_result",
          "data": {
            "text/plain": [
              "{'kaggle.json': b'{\"username\":\"srikresna\",\"key\":\"c90f9c19af6b129911ae9410dd23cde4\"}'}"
            ]
          },
          "metadata": {},
          "execution_count": 2
        }
      ]
    },
    {
      "cell_type": "code",
      "source": [
        "!mkdir ~/.kaggle\n",
        "!cp kaggle.json ~/.kaggle/\n",
        "!chmod 600 ~/.kaggle/kaggle.json"
      ],
      "metadata": {
        "id": "gP6hCXsQBf65"
      },
      "execution_count": 3,
      "outputs": []
    },
    {
      "cell_type": "code",
      "source": [
        "!kaggle datasets download -d mrutyunjaybiswal/iitjee-neet-aims-students-questions-data"
      ],
      "metadata": {
        "colab": {
          "base_uri": "https://localhost:8080/"
        },
        "id": "hGWErlCQCfRa",
        "outputId": "45403931-a479-4329-d79a-4e699d8df2c8"
      },
      "execution_count": 4,
      "outputs": [
        {
          "output_type": "stream",
          "name": "stdout",
          "text": [
            "Downloading iitjee-neet-aims-students-questions-data.zip to /content\n",
            "\r  0% 0.00/9.60M [00:00<?, ?B/s]\r 52% 5.00M/9.60M [00:00<00:00, 38.9MB/s]\n",
            "\r100% 9.60M/9.60M [00:00<00:00, 65.2MB/s]\n"
          ]
        }
      ]
    },
    {
      "cell_type": "code",
      "source": [
        "!unzip iitjee-neet-aims-students-questions-data.zip"
      ],
      "metadata": {
        "colab": {
          "base_uri": "https://localhost:8080/"
        },
        "id": "THm0s4iz2KpI",
        "outputId": "f3a36f27-875d-4215-af8d-45d870f8c3fe"
      },
      "execution_count": 5,
      "outputs": [
        {
          "output_type": "stream",
          "name": "stdout",
          "text": [
            "Archive:  iitjee-neet-aims-students-questions-data.zip\n",
            "  inflating: subjects-questions.csv  \n"
          ]
        }
      ]
    },
    {
      "cell_type": "markdown",
      "source": [
        "Import Library"
      ],
      "metadata": {
        "id": "Jn-0uIhIxQGJ"
      }
    },
    {
      "cell_type": "code",
      "source": [
        "import pandas as pd\n",
        "import pandas as pd\n",
        "import matplotlib.pyplot as plt\n",
        "import seaborn as sns\n",
        "import tensorflow as tf\n",
        "from sklearn.model_selection import train_test_split\n",
        "\n",
        "import nltk\n",
        "nltk.download('punkt')\n",
        "nltk.download('stopwords')\n",
        "nltk.download('wordnet')\n",
        "nltk.download('omw-1.4')\n",
        "from nltk.tokenize import word_tokenize\n",
        "from nltk.tokenize import sent_tokenize\n",
        "from nltk.stem import WordNetLemmatizer \n",
        "from nltk.corpus import stopwords\n",
        "stopwords.words('english')\n",
        "import string\n",
        "string.punctuation\n",
        "from nltk.stem.porter import PorterStemmer\n",
        "\n",
        "from tensorflow.keras.preprocessing.text import Tokenizer\n",
        "from tensorflow.keras.preprocessing.sequence import pad_sequences\n",
        "from tensorflow.keras.callbacks import Callback, ReduceLROnPlateau, EarlyStopping"
      ],
      "metadata": {
        "colab": {
          "base_uri": "https://localhost:8080/"
        },
        "id": "Vxtek94hxJdh",
        "outputId": "c522c28a-5bc9-4581-94d7-5c8e442f4a2e"
      },
      "execution_count": 6,
      "outputs": [
        {
          "output_type": "stream",
          "name": "stderr",
          "text": [
            "[nltk_data] Downloading package punkt to /root/nltk_data...\n",
            "[nltk_data]   Unzipping tokenizers/punkt.zip.\n",
            "[nltk_data] Downloading package stopwords to /root/nltk_data...\n",
            "[nltk_data]   Unzipping corpora/stopwords.zip.\n",
            "[nltk_data] Downloading package wordnet to /root/nltk_data...\n",
            "[nltk_data] Downloading package omw-1.4 to /root/nltk_data...\n"
          ]
        }
      ]
    },
    {
      "cell_type": "markdown",
      "source": [
        "Understanding Dataset"
      ],
      "metadata": {
        "id": "vA9xwsr40nUr"
      }
    },
    {
      "cell_type": "code",
      "source": [
        "df = pd.read_csv('subjects-questions.csv')\n",
        "df"
      ],
      "metadata": {
        "colab": {
          "base_uri": "https://localhost:8080/",
          "height": 424
        },
        "id": "oe5pbWECC5u0",
        "outputId": "ad45e2d9-b522-47cf-bc2e-a763f517af35"
      },
      "execution_count": 7,
      "outputs": [
        {
          "output_type": "execute_result",
          "data": {
            "text/plain": [
              "                                                      eng    Subject\n",
              "0       An anti-forest measure is\\nA. Afforestation\\nB...    Biology\n",
              "1       Among the following organic acids, the acid pr...  Chemistry\n",
              "2       If the area of two similar triangles are equal...      Maths\n",
              "3       In recent year, there has been a growing\\nconc...    Biology\n",
              "4       Which of the following statement\\nregarding tr...    Physics\n",
              "...                                                   ...        ...\n",
              "122514  Which of the following group of\\ncharacters is...    Biology\n",
              "122515  Light year is the\\nA. light emitted by the sun...    Physics\n",
              "122516  Member of Dipnoi are native of\\nA. India.\\nB. ...    Biology\n",
              "122517  In one average-life,\\nA. half the active nucle...    Physics\n",
              "122518  State whether true or false.\\nA magnetic field...    Physics\n",
              "\n",
              "[122519 rows x 2 columns]"
            ],
            "text/html": [
              "\n",
              "  <div id=\"df-64ef23a1-5c77-469d-8789-5299917d3c54\">\n",
              "    <div class=\"colab-df-container\">\n",
              "      <div>\n",
              "<style scoped>\n",
              "    .dataframe tbody tr th:only-of-type {\n",
              "        vertical-align: middle;\n",
              "    }\n",
              "\n",
              "    .dataframe tbody tr th {\n",
              "        vertical-align: top;\n",
              "    }\n",
              "\n",
              "    .dataframe thead th {\n",
              "        text-align: right;\n",
              "    }\n",
              "</style>\n",
              "<table border=\"1\" class=\"dataframe\">\n",
              "  <thead>\n",
              "    <tr style=\"text-align: right;\">\n",
              "      <th></th>\n",
              "      <th>eng</th>\n",
              "      <th>Subject</th>\n",
              "    </tr>\n",
              "  </thead>\n",
              "  <tbody>\n",
              "    <tr>\n",
              "      <th>0</th>\n",
              "      <td>An anti-forest measure is\\nA. Afforestation\\nB...</td>\n",
              "      <td>Biology</td>\n",
              "    </tr>\n",
              "    <tr>\n",
              "      <th>1</th>\n",
              "      <td>Among the following organic acids, the acid pr...</td>\n",
              "      <td>Chemistry</td>\n",
              "    </tr>\n",
              "    <tr>\n",
              "      <th>2</th>\n",
              "      <td>If the area of two similar triangles are equal...</td>\n",
              "      <td>Maths</td>\n",
              "    </tr>\n",
              "    <tr>\n",
              "      <th>3</th>\n",
              "      <td>In recent year, there has been a growing\\nconc...</td>\n",
              "      <td>Biology</td>\n",
              "    </tr>\n",
              "    <tr>\n",
              "      <th>4</th>\n",
              "      <td>Which of the following statement\\nregarding tr...</td>\n",
              "      <td>Physics</td>\n",
              "    </tr>\n",
              "    <tr>\n",
              "      <th>...</th>\n",
              "      <td>...</td>\n",
              "      <td>...</td>\n",
              "    </tr>\n",
              "    <tr>\n",
              "      <th>122514</th>\n",
              "      <td>Which of the following group of\\ncharacters is...</td>\n",
              "      <td>Biology</td>\n",
              "    </tr>\n",
              "    <tr>\n",
              "      <th>122515</th>\n",
              "      <td>Light year is the\\nA. light emitted by the sun...</td>\n",
              "      <td>Physics</td>\n",
              "    </tr>\n",
              "    <tr>\n",
              "      <th>122516</th>\n",
              "      <td>Member of Dipnoi are native of\\nA. India.\\nB. ...</td>\n",
              "      <td>Biology</td>\n",
              "    </tr>\n",
              "    <tr>\n",
              "      <th>122517</th>\n",
              "      <td>In one average-life,\\nA. half the active nucle...</td>\n",
              "      <td>Physics</td>\n",
              "    </tr>\n",
              "    <tr>\n",
              "      <th>122518</th>\n",
              "      <td>State whether true or false.\\nA magnetic field...</td>\n",
              "      <td>Physics</td>\n",
              "    </tr>\n",
              "  </tbody>\n",
              "</table>\n",
              "<p>122519 rows × 2 columns</p>\n",
              "</div>\n",
              "      <button class=\"colab-df-convert\" onclick=\"convertToInteractive('df-64ef23a1-5c77-469d-8789-5299917d3c54')\"\n",
              "              title=\"Convert this dataframe to an interactive table.\"\n",
              "              style=\"display:none;\">\n",
              "        \n",
              "  <svg xmlns=\"http://www.w3.org/2000/svg\" height=\"24px\"viewBox=\"0 0 24 24\"\n",
              "       width=\"24px\">\n",
              "    <path d=\"M0 0h24v24H0V0z\" fill=\"none\"/>\n",
              "    <path d=\"M18.56 5.44l.94 2.06.94-2.06 2.06-.94-2.06-.94-.94-2.06-.94 2.06-2.06.94zm-11 1L8.5 8.5l.94-2.06 2.06-.94-2.06-.94L8.5 2.5l-.94 2.06-2.06.94zm10 10l.94 2.06.94-2.06 2.06-.94-2.06-.94-.94-2.06-.94 2.06-2.06.94z\"/><path d=\"M17.41 7.96l-1.37-1.37c-.4-.4-.92-.59-1.43-.59-.52 0-1.04.2-1.43.59L10.3 9.45l-7.72 7.72c-.78.78-.78 2.05 0 2.83L4 21.41c.39.39.9.59 1.41.59.51 0 1.02-.2 1.41-.59l7.78-7.78 2.81-2.81c.8-.78.8-2.07 0-2.86zM5.41 20L4 18.59l7.72-7.72 1.47 1.35L5.41 20z\"/>\n",
              "  </svg>\n",
              "      </button>\n",
              "      \n",
              "  <style>\n",
              "    .colab-df-container {\n",
              "      display:flex;\n",
              "      flex-wrap:wrap;\n",
              "      gap: 12px;\n",
              "    }\n",
              "\n",
              "    .colab-df-convert {\n",
              "      background-color: #E8F0FE;\n",
              "      border: none;\n",
              "      border-radius: 50%;\n",
              "      cursor: pointer;\n",
              "      display: none;\n",
              "      fill: #1967D2;\n",
              "      height: 32px;\n",
              "      padding: 0 0 0 0;\n",
              "      width: 32px;\n",
              "    }\n",
              "\n",
              "    .colab-df-convert:hover {\n",
              "      background-color: #E2EBFA;\n",
              "      box-shadow: 0px 1px 2px rgba(60, 64, 67, 0.3), 0px 1px 3px 1px rgba(60, 64, 67, 0.15);\n",
              "      fill: #174EA6;\n",
              "    }\n",
              "\n",
              "    [theme=dark] .colab-df-convert {\n",
              "      background-color: #3B4455;\n",
              "      fill: #D2E3FC;\n",
              "    }\n",
              "\n",
              "    [theme=dark] .colab-df-convert:hover {\n",
              "      background-color: #434B5C;\n",
              "      box-shadow: 0px 1px 3px 1px rgba(0, 0, 0, 0.15);\n",
              "      filter: drop-shadow(0px 1px 2px rgba(0, 0, 0, 0.3));\n",
              "      fill: #FFFFFF;\n",
              "    }\n",
              "  </style>\n",
              "\n",
              "      <script>\n",
              "        const buttonEl =\n",
              "          document.querySelector('#df-64ef23a1-5c77-469d-8789-5299917d3c54 button.colab-df-convert');\n",
              "        buttonEl.style.display =\n",
              "          google.colab.kernel.accessAllowed ? 'block' : 'none';\n",
              "\n",
              "        async function convertToInteractive(key) {\n",
              "          const element = document.querySelector('#df-64ef23a1-5c77-469d-8789-5299917d3c54');\n",
              "          const dataTable =\n",
              "            await google.colab.kernel.invokeFunction('convertToInteractive',\n",
              "                                                     [key], {});\n",
              "          if (!dataTable) return;\n",
              "\n",
              "          const docLinkHtml = 'Like what you see? Visit the ' +\n",
              "            '<a target=\"_blank\" href=https://colab.research.google.com/notebooks/data_table.ipynb>data table notebook</a>'\n",
              "            + ' to learn more about interactive tables.';\n",
              "          element.innerHTML = '';\n",
              "          dataTable['output_type'] = 'display_data';\n",
              "          await google.colab.output.renderOutput(dataTable, element);\n",
              "          const docLink = document.createElement('div');\n",
              "          docLink.innerHTML = docLinkHtml;\n",
              "          element.appendChild(docLink);\n",
              "        }\n",
              "      </script>\n",
              "    </div>\n",
              "  </div>\n",
              "  "
            ]
          },
          "metadata": {},
          "execution_count": 7
        }
      ]
    },
    {
      "cell_type": "code",
      "source": [
        "df.Subject.unique()"
      ],
      "metadata": {
        "colab": {
          "base_uri": "https://localhost:8080/"
        },
        "id": "x-Y1BQ1j1Exx",
        "outputId": "5db97b8f-a6d3-44d1-d8db-9af0957a50bd"
      },
      "execution_count": 8,
      "outputs": [
        {
          "output_type": "execute_result",
          "data": {
            "text/plain": [
              "array(['Biology', 'Chemistry', 'Maths', 'Physics'], dtype=object)"
            ]
          },
          "metadata": {},
          "execution_count": 8
        }
      ]
    },
    {
      "cell_type": "code",
      "source": [
        "df.isna().sum()"
      ],
      "metadata": {
        "colab": {
          "base_uri": "https://localhost:8080/"
        },
        "id": "B0UZQ3Cz1urK",
        "outputId": "8fe629fa-032a-4b05-c64f-ec2c66c42463"
      },
      "execution_count": 9,
      "outputs": [
        {
          "output_type": "execute_result",
          "data": {
            "text/plain": [
              "eng        0\n",
              "Subject    0\n",
              "dtype: int64"
            ]
          },
          "metadata": {},
          "execution_count": 9
        }
      ]
    },
    {
      "cell_type": "markdown",
      "source": [
        "Exploratory Data Analysis (EDA)"
      ],
      "metadata": {
        "id": "_Y1eC16f251K"
      }
    },
    {
      "cell_type": "code",
      "source": [
        "df.head()"
      ],
      "metadata": {
        "colab": {
          "base_uri": "https://localhost:8080/",
          "height": 206
        },
        "id": "onMUJR7p3UAg",
        "outputId": "5f5c5e0d-7dd1-44af-bb10-2b122c34b5ff"
      },
      "execution_count": 10,
      "outputs": [
        {
          "output_type": "execute_result",
          "data": {
            "text/plain": [
              "                                                 eng    Subject\n",
              "0  An anti-forest measure is\\nA. Afforestation\\nB...    Biology\n",
              "1  Among the following organic acids, the acid pr...  Chemistry\n",
              "2  If the area of two similar triangles are equal...      Maths\n",
              "3  In recent year, there has been a growing\\nconc...    Biology\n",
              "4  Which of the following statement\\nregarding tr...    Physics"
            ],
            "text/html": [
              "\n",
              "  <div id=\"df-42c237ee-1206-461b-8d85-dd13d5285618\">\n",
              "    <div class=\"colab-df-container\">\n",
              "      <div>\n",
              "<style scoped>\n",
              "    .dataframe tbody tr th:only-of-type {\n",
              "        vertical-align: middle;\n",
              "    }\n",
              "\n",
              "    .dataframe tbody tr th {\n",
              "        vertical-align: top;\n",
              "    }\n",
              "\n",
              "    .dataframe thead th {\n",
              "        text-align: right;\n",
              "    }\n",
              "</style>\n",
              "<table border=\"1\" class=\"dataframe\">\n",
              "  <thead>\n",
              "    <tr style=\"text-align: right;\">\n",
              "      <th></th>\n",
              "      <th>eng</th>\n",
              "      <th>Subject</th>\n",
              "    </tr>\n",
              "  </thead>\n",
              "  <tbody>\n",
              "    <tr>\n",
              "      <th>0</th>\n",
              "      <td>An anti-forest measure is\\nA. Afforestation\\nB...</td>\n",
              "      <td>Biology</td>\n",
              "    </tr>\n",
              "    <tr>\n",
              "      <th>1</th>\n",
              "      <td>Among the following organic acids, the acid pr...</td>\n",
              "      <td>Chemistry</td>\n",
              "    </tr>\n",
              "    <tr>\n",
              "      <th>2</th>\n",
              "      <td>If the area of two similar triangles are equal...</td>\n",
              "      <td>Maths</td>\n",
              "    </tr>\n",
              "    <tr>\n",
              "      <th>3</th>\n",
              "      <td>In recent year, there has been a growing\\nconc...</td>\n",
              "      <td>Biology</td>\n",
              "    </tr>\n",
              "    <tr>\n",
              "      <th>4</th>\n",
              "      <td>Which of the following statement\\nregarding tr...</td>\n",
              "      <td>Physics</td>\n",
              "    </tr>\n",
              "  </tbody>\n",
              "</table>\n",
              "</div>\n",
              "      <button class=\"colab-df-convert\" onclick=\"convertToInteractive('df-42c237ee-1206-461b-8d85-dd13d5285618')\"\n",
              "              title=\"Convert this dataframe to an interactive table.\"\n",
              "              style=\"display:none;\">\n",
              "        \n",
              "  <svg xmlns=\"http://www.w3.org/2000/svg\" height=\"24px\"viewBox=\"0 0 24 24\"\n",
              "       width=\"24px\">\n",
              "    <path d=\"M0 0h24v24H0V0z\" fill=\"none\"/>\n",
              "    <path d=\"M18.56 5.44l.94 2.06.94-2.06 2.06-.94-2.06-.94-.94-2.06-.94 2.06-2.06.94zm-11 1L8.5 8.5l.94-2.06 2.06-.94-2.06-.94L8.5 2.5l-.94 2.06-2.06.94zm10 10l.94 2.06.94-2.06 2.06-.94-2.06-.94-.94-2.06-.94 2.06-2.06.94z\"/><path d=\"M17.41 7.96l-1.37-1.37c-.4-.4-.92-.59-1.43-.59-.52 0-1.04.2-1.43.59L10.3 9.45l-7.72 7.72c-.78.78-.78 2.05 0 2.83L4 21.41c.39.39.9.59 1.41.59.51 0 1.02-.2 1.41-.59l7.78-7.78 2.81-2.81c.8-.78.8-2.07 0-2.86zM5.41 20L4 18.59l7.72-7.72 1.47 1.35L5.41 20z\"/>\n",
              "  </svg>\n",
              "      </button>\n",
              "      \n",
              "  <style>\n",
              "    .colab-df-container {\n",
              "      display:flex;\n",
              "      flex-wrap:wrap;\n",
              "      gap: 12px;\n",
              "    }\n",
              "\n",
              "    .colab-df-convert {\n",
              "      background-color: #E8F0FE;\n",
              "      border: none;\n",
              "      border-radius: 50%;\n",
              "      cursor: pointer;\n",
              "      display: none;\n",
              "      fill: #1967D2;\n",
              "      height: 32px;\n",
              "      padding: 0 0 0 0;\n",
              "      width: 32px;\n",
              "    }\n",
              "\n",
              "    .colab-df-convert:hover {\n",
              "      background-color: #E2EBFA;\n",
              "      box-shadow: 0px 1px 2px rgba(60, 64, 67, 0.3), 0px 1px 3px 1px rgba(60, 64, 67, 0.15);\n",
              "      fill: #174EA6;\n",
              "    }\n",
              "\n",
              "    [theme=dark] .colab-df-convert {\n",
              "      background-color: #3B4455;\n",
              "      fill: #D2E3FC;\n",
              "    }\n",
              "\n",
              "    [theme=dark] .colab-df-convert:hover {\n",
              "      background-color: #434B5C;\n",
              "      box-shadow: 0px 1px 3px 1px rgba(0, 0, 0, 0.15);\n",
              "      filter: drop-shadow(0px 1px 2px rgba(0, 0, 0, 0.3));\n",
              "      fill: #FFFFFF;\n",
              "    }\n",
              "  </style>\n",
              "\n",
              "      <script>\n",
              "        const buttonEl =\n",
              "          document.querySelector('#df-42c237ee-1206-461b-8d85-dd13d5285618 button.colab-df-convert');\n",
              "        buttonEl.style.display =\n",
              "          google.colab.kernel.accessAllowed ? 'block' : 'none';\n",
              "\n",
              "        async function convertToInteractive(key) {\n",
              "          const element = document.querySelector('#df-42c237ee-1206-461b-8d85-dd13d5285618');\n",
              "          const dataTable =\n",
              "            await google.colab.kernel.invokeFunction('convertToInteractive',\n",
              "                                                     [key], {});\n",
              "          if (!dataTable) return;\n",
              "\n",
              "          const docLinkHtml = 'Like what you see? Visit the ' +\n",
              "            '<a target=\"_blank\" href=https://colab.research.google.com/notebooks/data_table.ipynb>data table notebook</a>'\n",
              "            + ' to learn more about interactive tables.';\n",
              "          element.innerHTML = '';\n",
              "          dataTable['output_type'] = 'display_data';\n",
              "          await google.colab.output.renderOutput(dataTable, element);\n",
              "          const docLink = document.createElement('div');\n",
              "          docLink.innerHTML = docLinkHtml;\n",
              "          element.appendChild(docLink);\n",
              "        }\n",
              "      </script>\n",
              "    </div>\n",
              "  </div>\n",
              "  "
            ]
          },
          "metadata": {},
          "execution_count": 10
        }
      ]
    },
    {
      "cell_type": "code",
      "source": [
        "plt.figure(figsize = (8, 8))\n",
        "sns.countplot(df['Subject'])"
      ],
      "metadata": {
        "colab": {
          "base_uri": "https://localhost:8080/",
          "height": 569
        },
        "id": "oyih0mEZCfiE",
        "outputId": "b6a6e291-7aea-43f8-cb11-1e84ea50683a"
      },
      "execution_count": 11,
      "outputs": [
        {
          "output_type": "stream",
          "name": "stderr",
          "text": [
            "/usr/local/lib/python3.8/dist-packages/seaborn/_decorators.py:36: FutureWarning: Pass the following variable as a keyword arg: x. From version 0.12, the only valid positional argument will be `data`, and passing other arguments without an explicit keyword will result in an error or misinterpretation.\n",
            "  warnings.warn(\n"
          ]
        },
        {
          "output_type": "execute_result",
          "data": {
            "text/plain": [
              "<matplotlib.axes._subplots.AxesSubplot at 0x7f23fe206970>"
            ]
          },
          "metadata": {},
          "execution_count": 11
        },
        {
          "output_type": "display_data",
          "data": {
            "text/plain": [
              "<Figure size 576x576 with 1 Axes>"
            ],
            "image/png": "[encoded data removed]"
          },
          "metadata": {
            "needs_background": "light"
          }
        }
      ]
    },
    {
      "cell_type": "markdown",
      "source": [
        "From the countplot above, biology have a less example then another"
      ],
      "metadata": {
        "id": "e_Irw35sDFNn"
      }
    },
    {
      "cell_type": "markdown",
      "source": [
        "Data Pre-Processing\n",
        "\n",
        "because this dataset is categorical, we need doing one-hot encoding first"
      ],
      "metadata": {
        "id": "FjCpnfpn2MkD"
      }
    },
    {
      "cell_type": "code",
      "source": [
        "category = pd.get_dummies(df.Subject)\n",
        "df_new = pd.concat([df, category], axis = 1)\n",
        "df_new = df_new.drop(columns = 'Subject')\n",
        "\n",
        "df_new"
      ],
      "metadata": {
        "colab": {
          "base_uri": "https://localhost:8080/",
          "height": 424
        },
        "id": "ecvloCwXSgvb",
        "outputId": "a27afbb1-f00b-49b5-816e-7bb9eccc3683"
      },
      "execution_count": 12,
      "outputs": [
        {
          "output_type": "execute_result",
          "data": {
            "text/plain": [
              "                                                      eng  Biology  Chemistry  \\\n",
              "0       An anti-forest measure is\\nA. Afforestation\\nB...        1          0   \n",
              "1       Among the following organic acids, the acid pr...        0          1   \n",
              "2       If the area of two similar triangles are equal...        0          0   \n",
              "3       In recent year, there has been a growing\\nconc...        1          0   \n",
              "4       Which of the following statement\\nregarding tr...        0          0   \n",
              "...                                                   ...      ...        ...   \n",
              "122514  Which of the following group of\\ncharacters is...        1          0   \n",
              "122515  Light year is the\\nA. light emitted by the sun...        0          0   \n",
              "122516  Member of Dipnoi are native of\\nA. India.\\nB. ...        1          0   \n",
              "122517  In one average-life,\\nA. half the active nucle...        0          0   \n",
              "122518  State whether true or false.\\nA magnetic field...        0          0   \n",
              "\n",
              "        Maths  Physics  \n",
              "0           0        0  \n",
              "1           0        0  \n",
              "2           1        0  \n",
              "3           0        0  \n",
              "4           0        1  \n",
              "...       ...      ...  \n",
              "122514      0        0  \n",
              "122515      0        1  \n",
              "122516      0        0  \n",
              "122517      0        1  \n",
              "122518      0        1  \n",
              "\n",
              "[122519 rows x 5 columns]"
            ],
            "text/html": [
              "\n",
              "  <div id=\"df-b4380d59-f263-45a3-9e95-4e083eb747dc\">\n",
              "    <div class=\"colab-df-container\">\n",
              "      <div>\n",
              "<style scoped>\n",
              "    .dataframe tbody tr th:only-of-type {\n",
              "        vertical-align: middle;\n",
              "    }\n",
              "\n",
              "    .dataframe tbody tr th {\n",
              "        vertical-align: top;\n",
              "    }\n",
              "\n",
              "    .dataframe thead th {\n",
              "        text-align: right;\n",
              "    }\n",
              "</style>\n",
              "<table border=\"1\" class=\"dataframe\">\n",
              "  <thead>\n",
              "    <tr style=\"text-align: right;\">\n",
              "      <th></th>\n",
              "      <th>eng</th>\n",
              "      <th>Biology</th>\n",
              "      <th>Chemistry</th>\n",
              "      <th>Maths</th>\n",
              "      <th>Physics</th>\n",
              "    </tr>\n",
              "  </thead>\n",
              "  <tbody>\n",
              "    <tr>\n",
              "      <th>0</th>\n",
              "      <td>An anti-forest measure is\\nA. Afforestation\\nB...</td>\n",
              "      <td>1</td>\n",
              "      <td>0</td>\n",
              "      <td>0</td>\n",
              "      <td>0</td>\n",
              "    </tr>\n",
              "    <tr>\n",
              "      <th>1</th>\n",
              "      <td>Among the following organic acids, the acid pr...</td>\n",
              "      <td>0</td>\n",
              "      <td>1</td>\n",
              "      <td>0</td>\n",
              "      <td>0</td>\n",
              "    </tr>\n",
              "    <tr>\n",
              "      <th>2</th>\n",
              "      <td>If the area of two similar triangles are equal...</td>\n",
              "      <td>0</td>\n",
              "      <td>0</td>\n",
              "      <td>1</td>\n",
              "      <td>0</td>\n",
              "    </tr>\n",
              "    <tr>\n",
              "      <th>3</th>\n",
              "      <td>In recent year, there has been a growing\\nconc...</td>\n",
              "      <td>1</td>\n",
              "      <td>0</td>\n",
              "      <td>0</td>\n",
              "      <td>0</td>\n",
              "    </tr>\n",
              "    <tr>\n",
              "      <th>4</th>\n",
              "      <td>Which of the following statement\\nregarding tr...</td>\n",
              "      <td>0</td>\n",
              "      <td>0</td>\n",
              "      <td>0</td>\n",
              "      <td>1</td>\n",
              "    </tr>\n",
              "    <tr>\n",
              "      <th>...</th>\n",
              "      <td>...</td>\n",
              "      <td>...</td>\n",
              "      <td>...</td>\n",
              "      <td>...</td>\n",
              "      <td>...</td>\n",
              "    </tr>\n",
              "    <tr>\n",
              "      <th>122514</th>\n",
              "      <td>Which of the following group of\\ncharacters is...</td>\n",
              "      <td>1</td>\n",
              "      <td>0</td>\n",
              "      <td>0</td>\n",
              "      <td>0</td>\n",
              "    </tr>\n",
              "    <tr>\n",
              "      <th>122515</th>\n",
              "      <td>Light year is the\\nA. light emitted by the sun...</td>\n",
              "      <td>0</td>\n",
              "      <td>0</td>\n",
              "      <td>0</td>\n",
              "      <td>1</td>\n",
              "    </tr>\n",
              "    <tr>\n",
              "      <th>122516</th>\n",
              "      <td>Member of Dipnoi are native of\\nA. India.\\nB. ...</td>\n",
              "      <td>1</td>\n",
              "      <td>0</td>\n",
              "      <td>0</td>\n",
              "      <td>0</td>\n",
              "    </tr>\n",
              "    <tr>\n",
              "      <th>122517</th>\n",
              "      <td>In one average-life,\\nA. half the active nucle...</td>\n",
              "      <td>0</td>\n",
              "      <td>0</td>\n",
              "      <td>0</td>\n",
              "      <td>1</td>\n",
              "    </tr>\n",
              "    <tr>\n",
              "      <th>122518</th>\n",
              "      <td>State whether true or false.\\nA magnetic field...</td>\n",
              "      <td>0</td>\n",
              "      <td>0</td>\n",
              "      <td>0</td>\n",
              "      <td>1</td>\n",
              "    </tr>\n",
              "  </tbody>\n",
              "</table>\n",
              "<p>122519 rows × 5 columns</p>\n",
              "</div>\n",
              "      <button class=\"colab-df-convert\" onclick=\"convertToInteractive('df-b4380d59-f263-45a3-9e95-4e083eb747dc')\"\n",
              "              title=\"Convert this dataframe to an interactive table.\"\n",
              "              style=\"display:none;\">\n",
              "        \n",
              "  <svg xmlns=\"http://www.w3.org/2000/svg\" height=\"24px\"viewBox=\"0 0 24 24\"\n",
              "       width=\"24px\">\n",
              "    <path d=\"M0 0h24v24H0V0z\" fill=\"none\"/>\n",
              "    <path d=\"M18.56 5.44l.94 2.06.94-2.06 2.06-.94-2.06-.94-.94-2.06-.94 2.06-2.06.94zm-11 1L8.5 8.5l.94-2.06 2.06-.94-2.06-.94L8.5 2.5l-.94 2.06-2.06.94zm10 10l.94 2.06.94-2.06 2.06-.94-2.06-.94-.94-2.06-.94 2.06-2.06.94z\"/><path d=\"M17.41 7.96l-1.37-1.37c-.4-.4-.92-.59-1.43-.59-.52 0-1.04.2-1.43.59L10.3 9.45l-7.72 7.72c-.78.78-.78 2.05 0 2.83L4 21.41c.39.39.9.59 1.41.59.51 0 1.02-.2 1.41-.59l7.78-7.78 2.81-2.81c.8-.78.8-2.07 0-2.86zM5.41 20L4 18.59l7.72-7.72 1.47 1.35L5.41 20z\"/>\n",
              "  </svg>\n",
              "      </button>\n",
              "      \n",
              "  <style>\n",
              "    .colab-df-container {\n",
              "      display:flex;\n",
              "      flex-wrap:wrap;\n",
              "      gap: 12px;\n",
              "    }\n",
              "\n",
              "    .colab-df-convert {\n",
              "      background-color: #E8F0FE;\n",
              "      border: none;\n",
              "      border-radius: 50%;\n",
              "      cursor: pointer;\n",
              "      display: none;\n",
              "      fill: #1967D2;\n",
              "      height: 32px;\n",
              "      padding: 0 0 0 0;\n",
              "      width: 32px;\n",
              "    }\n",
              "\n",
              "    .colab-df-convert:hover {\n",
              "      background-color: #E2EBFA;\n",
              "      box-shadow: 0px 1px 2px rgba(60, 64, 67, 0.3), 0px 1px 3px 1px rgba(60, 64, 67, 0.15);\n",
              "      fill: #174EA6;\n",
              "    }\n",
              "\n",
              "    [theme=dark] .colab-df-convert {\n",
              "      background-color: #3B4455;\n",
              "      fill: #D2E3FC;\n",
              "    }\n",
              "\n",
              "    [theme=dark] .colab-df-convert:hover {\n",
              "      background-color: #434B5C;\n",
              "      box-shadow: 0px 1px 3px 1px rgba(0, 0, 0, 0.15);\n",
              "      filter: drop-shadow(0px 1px 2px rgba(0, 0, 0, 0.3));\n",
              "      fill: #FFFFFF;\n",
              "    }\n",
              "  </style>\n",
              "\n",
              "      <script>\n",
              "        const buttonEl =\n",
              "          document.querySelector('#df-b4380d59-f263-45a3-9e95-4e083eb747dc button.colab-df-convert');\n",
              "        buttonEl.style.display =\n",
              "          google.colab.kernel.accessAllowed ? 'block' : 'none';\n",
              "\n",
              "        async function convertToInteractive(key) {\n",
              "          const element = document.querySelector('#df-b4380d59-f263-45a3-9e95-4e083eb747dc');\n",
              "          const dataTable =\n",
              "            await google.colab.kernel.invokeFunction('convertToInteractive',\n",
              "                                                     [key], {});\n",
              "          if (!dataTable) return;\n",
              "\n",
              "          const docLinkHtml = 'Like what you see? Visit the ' +\n",
              "            '<a target=\"_blank\" href=https://colab.research.google.com/notebooks/data_table.ipynb>data table notebook</a>'\n",
              "            + ' to learn more about interactive tables.';\n",
              "          element.innerHTML = '';\n",
              "          dataTable['output_type'] = 'display_data';\n",
              "          await google.colab.output.renderOutput(dataTable, element);\n",
              "          const docLink = document.createElement('div');\n",
              "          docLink.innerHTML = docLinkHtml;\n",
              "          element.appendChild(docLink);\n",
              "        }\n",
              "      </script>\n",
              "    </div>\n",
              "  </div>\n",
              "  "
            ]
          },
          "metadata": {},
          "execution_count": 12
        }
      ]
    },
    {
      "cell_type": "markdown",
      "source": [
        "Text Processing\n",
        "\n",
        "Make functions for removal of stopwords, lemmatizing and cleaning text:"
      ],
      "metadata": {
        "id": "LPLYjDvlGd03"
      }
    },
    {
      "cell_type": "code",
      "source": [
        "def remove_Stopwords(text ):\n",
        "    stop_words = set(stopwords.words('english')) \n",
        "    words = word_tokenize( text.lower() ) \n",
        "    sentence = [w for w in words if not w in stop_words]\n",
        "    return \" \".join(sentence)\n",
        "    \n",
        "\n",
        "def lemmatize_text(text):\n",
        "    wordlist=[]\n",
        "    lemmatizer = WordNetLemmatizer() \n",
        "    sentences=sent_tokenize(text)\n",
        "    for sentence in sentences:\n",
        "        words=word_tokenize(sentence)\n",
        "        for word in words:\n",
        "            wordlist.append(lemmatizer.lemmatize(word))\n",
        "    return ' '.join(wordlist) \n",
        "\n",
        "def clean_text(text ): \n",
        "    delete_dict = {sp_character: '' for sp_character in string.punctuation} \n",
        "    delete_dict[' '] = ' ' \n",
        "    table = str.maketrans(delete_dict)\n",
        "    text1 = text.translate(table)\n",
        "    textArr= text1.split()\n",
        "    text2 = ' '.join([w for w in textArr]) \n",
        "    \n",
        "    return text2.lower()\n",
        "\n",
        "def stemSentence(text):\n",
        "    porter = PorterStemmer()\n",
        "    token_words=word_tokenize(text)\n",
        "    token_words\n",
        "    stem_sentence=[]\n",
        "    for word in token_words:\n",
        "        stem_sentence.append(porter.stem(word))\n",
        "        stem_sentence.append(\" \")\n",
        "    return \"\".join(stem_sentence)"
      ],
      "metadata": {
        "id": "-7vB1vwUGdRI"
      },
      "execution_count": 13,
      "outputs": []
    },
    {
      "cell_type": "code",
      "source": [
        "df_new['new_eng'] = df_new['eng'].apply(remove_Stopwords)\n",
        "df_new['new_eng'] = df_new['eng'].apply(lemmatize_text)\n",
        "df_new['new_eng'] = df_new['eng'].apply(clean_text)\n",
        "df_new"
      ],
      "metadata": {
        "colab": {
          "base_uri": "https://localhost:8080/",
          "height": 424
        },
        "id": "v7CFSeYpIO6v",
        "outputId": "85c30b80-24a2-45c2-eac8-2705ca98b91d"
      },
      "execution_count": 14,
      "outputs": [
        {
          "output_type": "execute_result",
          "data": {
            "text/plain": [
              "                                                      eng  Biology  Chemistry  \\\n",
              "0       An anti-forest measure is\\nA. Afforestation\\nB...        1          0   \n",
              "1       Among the following organic acids, the acid pr...        0          1   \n",
              "2       If the area of two similar triangles are equal...        0          0   \n",
              "3       In recent year, there has been a growing\\nconc...        1          0   \n",
              "4       Which of the following statement\\nregarding tr...        0          0   \n",
              "...                                                   ...      ...        ...   \n",
              "122514  Which of the following group of\\ncharacters is...        1          0   \n",
              "122515  Light year is the\\nA. light emitted by the sun...        0          0   \n",
              "122516  Member of Dipnoi are native of\\nA. India.\\nB. ...        1          0   \n",
              "122517  In one average-life,\\nA. half the active nucle...        0          0   \n",
              "122518  State whether true or false.\\nA magnetic field...        0          0   \n",
              "\n",
              "        Maths  Physics                                            new_eng  \n",
              "0           0        0  an antiforest measure is a afforestation b sel...  \n",
              "1           0        0  among the following organic acids the acid pre...  \n",
              "2           1        0  if the area of two similar triangles are equal...  \n",
              "3           0        0  in recent year there has been a growing concer...  \n",
              "4           0        1  which of the following statement regarding tra...  \n",
              "...       ...      ...                                                ...  \n",
              "122514      0        0  which of the following group of characters is ...  \n",
              "122515      0        1  light year is the a light emitted by the sun i...  \n",
              "122516      0        0  member of dipnoi are native of a india b afric...  \n",
              "122517      0        1  in one averagelife a half the active nuclei de...  \n",
              "122518      0        1  state whether true or false a magnetic field i...  \n",
              "\n",
              "[122519 rows x 6 columns]"
            ],
            "text/html": [
              "\n",
              "  <div id=\"df-c8274235-9785-41a9-8fe2-23e75f0d7365\">\n",
              "    <div class=\"colab-df-container\">\n",
              "      <div>\n",
              "<style scoped>\n",
              "    .dataframe tbody tr th:only-of-type {\n",
              "        vertical-align: middle;\n",
              "    }\n",
              "\n",
              "    .dataframe tbody tr th {\n",
              "        vertical-align: top;\n",
              "    }\n",
              "\n",
              "    .dataframe thead th {\n",
              "        text-align: right;\n",
              "    }\n",
              "</style>\n",
              "<table border=\"1\" class=\"dataframe\">\n",
              "  <thead>\n",
              "    <tr style=\"text-align: right;\">\n",
              "      <th></th>\n",
              "      <th>eng</th>\n",
              "      <th>Biology</th>\n",
              "      <th>Chemistry</th>\n",
              "      <th>Maths</th>\n",
              "      <th>Physics</th>\n",
              "      <th>new_eng</th>\n",
              "    </tr>\n",
              "  </thead>\n",
              "  <tbody>\n",
              "    <tr>\n",
              "      <th>0</th>\n",
              "      <td>An anti-forest measure is\\nA. Afforestation\\nB...</td>\n",
              "      <td>1</td>\n",
              "      <td>0</td>\n",
              "      <td>0</td>\n",
              "      <td>0</td>\n",
              "      <td>an antiforest measure is a afforestation b sel...</td>\n",
              "    </tr>\n",
              "    <tr>\n",
              "      <th>1</th>\n",
              "      <td>Among the following organic acids, the acid pr...</td>\n",
              "      <td>0</td>\n",
              "      <td>1</td>\n",
              "      <td>0</td>\n",
              "      <td>0</td>\n",
              "      <td>among the following organic acids the acid pre...</td>\n",
              "    </tr>\n",
              "    <tr>\n",
              "      <th>2</th>\n",
              "      <td>If the area of two similar triangles are equal...</td>\n",
              "      <td>0</td>\n",
              "      <td>0</td>\n",
              "      <td>1</td>\n",
              "      <td>0</td>\n",
              "      <td>if the area of two similar triangles are equal...</td>\n",
              "    </tr>\n",
              "    <tr>\n",
              "      <th>3</th>\n",
              "      <td>In recent year, there has been a growing\\nconc...</td>\n",
              "      <td>1</td>\n",
              "      <td>0</td>\n",
              "      <td>0</td>\n",
              "      <td>0</td>\n",
              "      <td>in recent year there has been a growing concer...</td>\n",
              "    </tr>\n",
              "    <tr>\n",
              "      <th>4</th>\n",
              "      <td>Which of the following statement\\nregarding tr...</td>\n",
              "      <td>0</td>\n",
              "      <td>0</td>\n",
              "      <td>0</td>\n",
              "      <td>1</td>\n",
              "      <td>which of the following statement regarding tra...</td>\n",
              "    </tr>\n",
              "    <tr>\n",
              "      <th>...</th>\n",
              "      <td>...</td>\n",
              "      <td>...</td>\n",
              "      <td>...</td>\n",
              "      <td>...</td>\n",
              "      <td>...</td>\n",
              "      <td>...</td>\n",
              "    </tr>\n",
              "    <tr>\n",
              "      <th>122514</th>\n",
              "      <td>Which of the following group of\\ncharacters is...</td>\n",
              "      <td>1</td>\n",
              "      <td>0</td>\n",
              "      <td>0</td>\n",
              "      <td>0</td>\n",
              "      <td>which of the following group of characters is ...</td>\n",
              "    </tr>\n",
              "    <tr>\n",
              "      <th>122515</th>\n",
              "      <td>Light year is the\\nA. light emitted by the sun...</td>\n",
              "      <td>0</td>\n",
              "      <td>0</td>\n",
              "      <td>0</td>\n",
              "      <td>1</td>\n",
              "      <td>light year is the a light emitted by the sun i...</td>\n",
              "    </tr>\n",
              "    <tr>\n",
              "      <th>122516</th>\n",
              "      <td>Member of Dipnoi are native of\\nA. India.\\nB. ...</td>\n",
              "      <td>1</td>\n",
              "      <td>0</td>\n",
              "      <td>0</td>\n",
              "      <td>0</td>\n",
              "      <td>member of dipnoi are native of a india b afric...</td>\n",
              "    </tr>\n",
              "    <tr>\n",
              "      <th>122517</th>\n",
              "      <td>In one average-life,\\nA. half the active nucle...</td>\n",
              "      <td>0</td>\n",
              "      <td>0</td>\n",
              "      <td>0</td>\n",
              "      <td>1</td>\n",
              "      <td>in one averagelife a half the active nuclei de...</td>\n",
              "    </tr>\n",
              "    <tr>\n",
              "      <th>122518</th>\n",
              "      <td>State whether true or false.\\nA magnetic field...</td>\n",
              "      <td>0</td>\n",
              "      <td>0</td>\n",
              "      <td>0</td>\n",
              "      <td>1</td>\n",
              "      <td>state whether true or false a magnetic field i...</td>\n",
              "    </tr>\n",
              "  </tbody>\n",
              "</table>\n",
              "<p>122519 rows × 6 columns</p>\n",
              "</div>\n",
              "      <button class=\"colab-df-convert\" onclick=\"convertToInteractive('df-c8274235-9785-41a9-8fe2-23e75f0d7365')\"\n",
              "              title=\"Convert this dataframe to an interactive table.\"\n",
              "              style=\"display:none;\">\n",
              "        \n",
              "  <svg xmlns=\"http://www.w3.org/2000/svg\" height=\"24px\"viewBox=\"0 0 24 24\"\n",
              "       width=\"24px\">\n",
              "    <path d=\"M0 0h24v24H0V0z\" fill=\"none\"/>\n",
              "    <path d=\"M18.56 5.44l.94 2.06.94-2.06 2.06-.94-2.06-.94-.94-2.06-.94 2.06-2.06.94zm-11 1L8.5 8.5l.94-2.06 2.06-.94-2.06-.94L8.5 2.5l-.94 2.06-2.06.94zm10 10l.94 2.06.94-2.06 2.06-.94-2.06-.94-.94-2.06-.94 2.06-2.06.94z\"/><path d=\"M17.41 7.96l-1.37-1.37c-.4-.4-.92-.59-1.43-.59-.52 0-1.04.2-1.43.59L10.3 9.45l-7.72 7.72c-.78.78-.78 2.05 0 2.83L4 21.41c.39.39.9.59 1.41.59.51 0 1.02-.2 1.41-.59l7.78-7.78 2.81-2.81c.8-.78.8-2.07 0-2.86zM5.41 20L4 18.59l7.72-7.72 1.47 1.35L5.41 20z\"/>\n",
              "  </svg>\n",
              "      </button>\n",
              "      \n",
              "  <style>\n",
              "    .colab-df-container {\n",
              "      display:flex;\n",
              "      flex-wrap:wrap;\n",
              "      gap: 12px;\n",
              "    }\n",
              "\n",
              "    .colab-df-convert {\n",
              "      background-color: #E8F0FE;\n",
              "      border: none;\n",
              "      border-radius: 50%;\n",
              "      cursor: pointer;\n",
              "      display: none;\n",
              "      fill: #1967D2;\n",
              "      height: 32px;\n",
              "      padding: 0 0 0 0;\n",
              "      width: 32px;\n",
              "    }\n",
              "\n",
              "    .colab-df-convert:hover {\n",
              "      background-color: #E2EBFA;\n",
              "      box-shadow: 0px 1px 2px rgba(60, 64, 67, 0.3), 0px 1px 3px 1px rgba(60, 64, 67, 0.15);\n",
              "      fill: #174EA6;\n",
              "    }\n",
              "\n",
              "    [theme=dark] .colab-df-convert {\n",
              "      background-color: #3B4455;\n",
              "      fill: #D2E3FC;\n",
              "    }\n",
              "\n",
              "    [theme=dark] .colab-df-convert:hover {\n",
              "      background-color: #434B5C;\n",
              "      box-shadow: 0px 1px 3px 1px rgba(0, 0, 0, 0.15);\n",
              "      filter: drop-shadow(0px 1px 2px rgba(0, 0, 0, 0.3));\n",
              "      fill: #FFFFFF;\n",
              "    }\n",
              "  </style>\n",
              "\n",
              "      <script>\n",
              "        const buttonEl =\n",
              "          document.querySelector('#df-c8274235-9785-41a9-8fe2-23e75f0d7365 button.colab-df-convert');\n",
              "        buttonEl.style.display =\n",
              "          google.colab.kernel.accessAllowed ? 'block' : 'none';\n",
              "\n",
              "        async function convertToInteractive(key) {\n",
              "          const element = document.querySelector('#df-c8274235-9785-41a9-8fe2-23e75f0d7365');\n",
              "          const dataTable =\n",
              "            await google.colab.kernel.invokeFunction('convertToInteractive',\n",
              "                                                     [key], {});\n",
              "          if (!dataTable) return;\n",
              "\n",
              "          const docLinkHtml = 'Like what you see? Visit the ' +\n",
              "            '<a target=\"_blank\" href=https://colab.research.google.com/notebooks/data_table.ipynb>data table notebook</a>'\n",
              "            + ' to learn more about interactive tables.';\n",
              "          element.innerHTML = '';\n",
              "          dataTable['output_type'] = 'display_data';\n",
              "          await google.colab.output.renderOutput(dataTable, element);\n",
              "          const docLink = document.createElement('div');\n",
              "          docLink.innerHTML = docLinkHtml;\n",
              "          element.appendChild(docLink);\n",
              "        }\n",
              "      </script>\n",
              "    </div>\n",
              "  </div>\n",
              "  "
            ]
          },
          "metadata": {},
          "execution_count": 14
        }
      ]
    },
    {
      "cell_type": "code",
      "source": [
        "df_new['stem_eng'] = df_new['new_eng'].apply(stemSentence)"
      ],
      "metadata": {
        "id": "CqADOHYoP0A-"
      },
      "execution_count": 15,
      "outputs": []
    },
    {
      "cell_type": "code",
      "source": [
        "df_new"
      ],
      "metadata": {
        "colab": {
          "base_uri": "https://localhost:8080/",
          "height": 572
        },
        "id": "jrDfk_FrR3sV",
        "outputId": "7ae645cf-b5c0-490d-84ff-f8743a8022e3"
      },
      "execution_count": 16,
      "outputs": [
        {
          "output_type": "execute_result",
          "data": {
            "text/plain": [
              "                                                      eng  Biology  Chemistry  \\\n",
              "0       An anti-forest measure is\\nA. Afforestation\\nB...        1          0   \n",
              "1       Among the following organic acids, the acid pr...        0          1   \n",
              "2       If the area of two similar triangles are equal...        0          0   \n",
              "3       In recent year, there has been a growing\\nconc...        1          0   \n",
              "4       Which of the following statement\\nregarding tr...        0          0   \n",
              "...                                                   ...      ...        ...   \n",
              "122514  Which of the following group of\\ncharacters is...        1          0   \n",
              "122515  Light year is the\\nA. light emitted by the sun...        0          0   \n",
              "122516  Member of Dipnoi are native of\\nA. India.\\nB. ...        1          0   \n",
              "122517  In one average-life,\\nA. half the active nucle...        0          0   \n",
              "122518  State whether true or false.\\nA magnetic field...        0          0   \n",
              "\n",
              "        Maths  Physics                                            new_eng  \\\n",
              "0           0        0  an antiforest measure is a afforestation b sel...   \n",
              "1           0        0  among the following organic acids the acid pre...   \n",
              "2           1        0  if the area of two similar triangles are equal...   \n",
              "3           0        0  in recent year there has been a growing concer...   \n",
              "4           0        1  which of the following statement regarding tra...   \n",
              "...       ...      ...                                                ...   \n",
              "122514      0        0  which of the following group of characters is ...   \n",
              "122515      0        1  light year is the a light emitted by the sun i...   \n",
              "122516      0        0  member of dipnoi are native of a india b afric...   \n",
              "122517      0        1  in one averagelife a half the active nuclei de...   \n",
              "122518      0        1  state whether true or false a magnetic field i...   \n",
              "\n",
              "                                                 stem_eng  \n",
              "0       an antiforest measur is a afforest b select gr...  \n",
              "1       among the follow organ acid the acid present i...  \n",
              "2       if the area of two similar triangl are equal t...  \n",
              "3       in recent year there ha been a grow concern ab...  \n",
              "4       which of the follow statement regard transform...  \n",
              "...                                                   ...  \n",
              "122514  which of the follow group of charact is presen...  \n",
              "122515  light year is the a light emit by the sun in o...  \n",
              "122516  member of dipnoi are nativ of a india b africa...  \n",
              "122517  in one averagelif a half the activ nuclei deca...  \n",
              "122518  state whether true or fals a magnet field is a...  \n",
              "\n",
              "[122519 rows x 7 columns]"
            ],
            "text/html": [
              "\n",
              "  <div id=\"df-aa86b411-c213-47a4-9f15-2f7c6344aaaf\">\n",
              "    <div class=\"colab-df-container\">\n",
              "      <div>\n",
              "<style scoped>\n",
              "    .dataframe tbody tr th:only-of-type {\n",
              "        vertical-align: middle;\n",
              "    }\n",
              "\n",
              "    .dataframe tbody tr th {\n",
              "        vertical-align: top;\n",
              "    }\n",
              "\n",
              "    .dataframe thead th {\n",
              "        text-align: right;\n",
              "    }\n",
              "</style>\n",
              "<table border=\"1\" class=\"dataframe\">\n",
              "  <thead>\n",
              "    <tr style=\"text-align: right;\">\n",
              "      <th></th>\n",
              "      <th>eng</th>\n",
              "      <th>Biology</th>\n",
              "      <th>Chemistry</th>\n",
              "      <th>Maths</th>\n",
              "      <th>Physics</th>\n",
              "      <th>new_eng</th>\n",
              "      <th>stem_eng</th>\n",
              "    </tr>\n",
              "  </thead>\n",
              "  <tbody>\n",
              "    <tr>\n",
              "      <th>0</th>\n",
              "      <td>An anti-forest measure is\\nA. Afforestation\\nB...</td>\n",
              "      <td>1</td>\n",
              "      <td>0</td>\n",
              "      <td>0</td>\n",
              "      <td>0</td>\n",
              "      <td>an antiforest measure is a afforestation b sel...</td>\n",
              "      <td>an antiforest measur is a afforest b select gr...</td>\n",
              "    </tr>\n",
              "    <tr>\n",
              "      <th>1</th>\n",
              "      <td>Among the following organic acids, the acid pr...</td>\n",
              "      <td>0</td>\n",
              "      <td>1</td>\n",
              "      <td>0</td>\n",
              "      <td>0</td>\n",
              "      <td>among the following organic acids the acid pre...</td>\n",
              "      <td>among the follow organ acid the acid present i...</td>\n",
              "    </tr>\n",
              "    <tr>\n",
              "      <th>2</th>\n",
              "      <td>If the area of two similar triangles are equal...</td>\n",
              "      <td>0</td>\n",
              "      <td>0</td>\n",
              "      <td>1</td>\n",
              "      <td>0</td>\n",
              "      <td>if the area of two similar triangles are equal...</td>\n",
              "      <td>if the area of two similar triangl are equal t...</td>\n",
              "    </tr>\n",
              "    <tr>\n",
              "      <th>3</th>\n",
              "      <td>In recent year, there has been a growing\\nconc...</td>\n",
              "      <td>1</td>\n",
              "      <td>0</td>\n",
              "      <td>0</td>\n",
              "      <td>0</td>\n",
              "      <td>in recent year there has been a growing concer...</td>\n",
              "      <td>in recent year there ha been a grow concern ab...</td>\n",
              "    </tr>\n",
              "    <tr>\n",
              "      <th>4</th>\n",
              "      <td>Which of the following statement\\nregarding tr...</td>\n",
              "      <td>0</td>\n",
              "      <td>0</td>\n",
              "      <td>0</td>\n",
              "      <td>1</td>\n",
              "      <td>which of the following statement regarding tra...</td>\n",
              "      <td>which of the follow statement regard transform...</td>\n",
              "    </tr>\n",
              "    <tr>\n",
              "      <th>...</th>\n",
              "      <td>...</td>\n",
              "      <td>...</td>\n",
              "      <td>...</td>\n",
              "      <td>...</td>\n",
              "      <td>...</td>\n",
              "      <td>...</td>\n",
              "      <td>...</td>\n",
              "    </tr>\n",
              "    <tr>\n",
              "      <th>122514</th>\n",
              "      <td>Which of the following group of\\ncharacters is...</td>\n",
              "      <td>1</td>\n",
              "      <td>0</td>\n",
              "      <td>0</td>\n",
              "      <td>0</td>\n",
              "      <td>which of the following group of characters is ...</td>\n",
              "      <td>which of the follow group of charact is presen...</td>\n",
              "    </tr>\n",
              "    <tr>\n",
              "      <th>122515</th>\n",
              "      <td>Light year is the\\nA. light emitted by the sun...</td>\n",
              "      <td>0</td>\n",
              "      <td>0</td>\n",
              "      <td>0</td>\n",
              "      <td>1</td>\n",
              "      <td>light year is the a light emitted by the sun i...</td>\n",
              "      <td>light year is the a light emit by the sun in o...</td>\n",
              "    </tr>\n",
              "    <tr>\n",
              "      <th>122516</th>\n",
              "      <td>Member of Dipnoi are native of\\nA. India.\\nB. ...</td>\n",
              "      <td>1</td>\n",
              "      <td>0</td>\n",
              "      <td>0</td>\n",
              "      <td>0</td>\n",
              "      <td>member of dipnoi are native of a india b afric...</td>\n",
              "      <td>member of dipnoi are nativ of a india b africa...</td>\n",
              "    </tr>\n",
              "    <tr>\n",
              "      <th>122517</th>\n",
              "      <td>In one average-life,\\nA. half the active nucle...</td>\n",
              "      <td>0</td>\n",
              "      <td>0</td>\n",
              "      <td>0</td>\n",
              "      <td>1</td>\n",
              "      <td>in one averagelife a half the active nuclei de...</td>\n",
              "      <td>in one averagelif a half the activ nuclei deca...</td>\n",
              "    </tr>\n",
              "    <tr>\n",
              "      <th>122518</th>\n",
              "      <td>State whether true or false.\\nA magnetic field...</td>\n",
              "      <td>0</td>\n",
              "      <td>0</td>\n",
              "      <td>0</td>\n",
              "      <td>1</td>\n",
              "      <td>state whether true or false a magnetic field i...</td>\n",
              "      <td>state whether true or fals a magnet field is a...</td>\n",
              "    </tr>\n",
              "  </tbody>\n",
              "</table>\n",
              "<p>122519 rows × 7 columns</p>\n",
              "</div>\n",
              "      <button class=\"colab-df-convert\" onclick=\"convertToInteractive('df-aa86b411-c213-47a4-9f15-2f7c6344aaaf')\"\n",
              "              title=\"Convert this dataframe to an interactive table.\"\n",
              "              style=\"display:none;\">\n",
              "        \n",
              "  <svg xmlns=\"http://www.w3.org/2000/svg\" height=\"24px\"viewBox=\"0 0 24 24\"\n",
              "       width=\"24px\">\n",
              "    <path d=\"M0 0h24v24H0V0z\" fill=\"none\"/>\n",
              "    <path d=\"M18.56 5.44l.94 2.06.94-2.06 2.06-.94-2.06-.94-.94-2.06-.94 2.06-2.06.94zm-11 1L8.5 8.5l.94-2.06 2.06-.94-2.06-.94L8.5 2.5l-.94 2.06-2.06.94zm10 10l.94 2.06.94-2.06 2.06-.94-2.06-.94-.94-2.06-.94 2.06-2.06.94z\"/><path d=\"M17.41 7.96l-1.37-1.37c-.4-.4-.92-.59-1.43-.59-.52 0-1.04.2-1.43.59L10.3 9.45l-7.72 7.72c-.78.78-.78 2.05 0 2.83L4 21.41c.39.39.9.59 1.41.59.51 0 1.02-.2 1.41-.59l7.78-7.78 2.81-2.81c.8-.78.8-2.07 0-2.86zM5.41 20L4 18.59l7.72-7.72 1.47 1.35L5.41 20z\"/>\n",
              "  </svg>\n",
              "      </button>\n",
              "      \n",
              "  <style>\n",
              "    .colab-df-container {\n",
              "      display:flex;\n",
              "      flex-wrap:wrap;\n",
              "      gap: 12px;\n",
              "    }\n",
              "\n",
              "    .colab-df-convert {\n",
              "      background-color: #E8F0FE;\n",
              "      border: none;\n",
              "      border-radius: 50%;\n",
              "      cursor: pointer;\n",
              "      display: none;\n",
              "      fill: #1967D2;\n",
              "      height: 32px;\n",
              "      padding: 0 0 0 0;\n",
              "      width: 32px;\n",
              "    }\n",
              "\n",
              "    .colab-df-convert:hover {\n",
              "      background-color: #E2EBFA;\n",
              "      box-shadow: 0px 1px 2px rgba(60, 64, 67, 0.3), 0px 1px 3px 1px rgba(60, 64, 67, 0.15);\n",
              "      fill: #174EA6;\n",
              "    }\n",
              "\n",
              "    [theme=dark] .colab-df-convert {\n",
              "      background-color: #3B4455;\n",
              "      fill: #D2E3FC;\n",
              "    }\n",
              "\n",
              "    [theme=dark] .colab-df-convert:hover {\n",
              "      background-color: #434B5C;\n",
              "      box-shadow: 0px 1px 3px 1px rgba(0, 0, 0, 0.15);\n",
              "      filter: drop-shadow(0px 1px 2px rgba(0, 0, 0, 0.3));\n",
              "      fill: #FFFFFF;\n",
              "    }\n",
              "  </style>\n",
              "\n",
              "      <script>\n",
              "        const buttonEl =\n",
              "          document.querySelector('#df-aa86b411-c213-47a4-9f15-2f7c6344aaaf button.colab-df-convert');\n",
              "        buttonEl.style.display =\n",
              "          google.colab.kernel.accessAllowed ? 'block' : 'none';\n",
              "\n",
              "        async function convertToInteractive(key) {\n",
              "          const element = document.querySelector('#df-aa86b411-c213-47a4-9f15-2f7c6344aaaf');\n",
              "          const dataTable =\n",
              "            await google.colab.kernel.invokeFunction('convertToInteractive',\n",
              "                                                     [key], {});\n",
              "          if (!dataTable) return;\n",
              "\n",
              "          const docLinkHtml = 'Like what you see? Visit the ' +\n",
              "            '<a target=\"_blank\" href=https://colab.research.google.com/notebooks/data_table.ipynb>data table notebook</a>'\n",
              "            + ' to learn more about interactive tables.';\n",
              "          element.innerHTML = '';\n",
              "          dataTable['output_type'] = 'display_data';\n",
              "          await google.colab.output.renderOutput(dataTable, element);\n",
              "          const docLink = document.createElement('div');\n",
              "          docLink.innerHTML = docLinkHtml;\n",
              "          element.appendChild(docLink);\n",
              "        }\n",
              "      </script>\n",
              "    </div>\n",
              "  </div>\n",
              "  "
            ]
          },
          "metadata": {},
          "execution_count": 16
        }
      ]
    },
    {
      "cell_type": "markdown",
      "source": [
        "<h1>Model Building"
      ],
      "metadata": {
        "id": "HWI63TBsSq5p"
      }
    },
    {
      "cell_type": "code",
      "source": [
        "length = df_new['stem_eng'].str.len().max()\n",
        "df_new.columns"
      ],
      "metadata": {
        "colab": {
          "base_uri": "https://localhost:8080/"
        },
        "id": "Y2zXuQUivWYH",
        "outputId": "910fe6d8-d082-4e02-9a41-d2c9e4877dcf"
      },
      "execution_count": 17,
      "outputs": [
        {
          "output_type": "execute_result",
          "data": {
            "text/plain": [
              "Index(['eng', 'Biology', 'Chemistry', 'Maths', 'Physics', 'new_eng',\n",
              "       'stem_eng'],\n",
              "      dtype='object')"
            ]
          },
          "metadata": {},
          "execution_count": 17
        }
      ]
    },
    {
      "cell_type": "markdown",
      "source": [
        "Change into numpy array"
      ],
      "metadata": {
        "id": "mvNCVNeITHXX"
      }
    },
    {
      "cell_type": "code",
      "source": [
        "news = df_new['stem_eng'].values\n",
        "label = df_new[['Biology', 'Chemistry', 'Maths', 'Physics']].values\n",
        "label, news"
      ],
      "metadata": {
        "id": "f9RRmmozS0Jj",
        "colab": {
          "base_uri": "https://localhost:8080/"
        },
        "outputId": "0b7c71f0-5b01-4534-bd87-09e3e2091e7b"
      },
      "execution_count": 18,
      "outputs": [
        {
          "output_type": "execute_result",
          "data": {
            "text/plain": [
              "(array([[1, 0, 0, 0],\n",
              "        [0, 1, 0, 0],\n",
              "        [0, 0, 1, 0],\n",
              "        ...,\n",
              "        [1, 0, 0, 0],\n",
              "        [0, 0, 0, 1],\n",
              "        [0, 0, 0, 1]], dtype=uint8),\n",
              " array(['an antiforest measur is a afforest b select graze c clear forest d select fell ',\n",
              "        'among the follow organ acid the acid present in rancid butter is a pyruv acid b lactic acid c butyr acid d acet acid ',\n",
              "        'if the area of two similar triangl are equal then they are a equilater b isoscel c congruent d not congruent ',\n",
              "        ...,\n",
              "        'member of dipnoi are nativ of a india b africa and australia c new zealand d none of the abov ',\n",
              "        'in one averagelif a half the activ nuclei decay b less than half the activ nuclei decay c more than half the activ nuclei decay d all the nuclei decay ',\n",
              "        'state whether true or fals a magnet field is a region around a magnet where magnet line of forc act a true b fals '],\n",
              "       dtype=object))"
            ]
          },
          "metadata": {},
          "execution_count": 18
        }
      ]
    },
    {
      "cell_type": "markdown",
      "source": [
        "Divided into training and test"
      ],
      "metadata": {
        "id": "-j0FtUGHTWEM"
      }
    },
    {
      "cell_type": "code",
      "source": [
        "news_train, news_test, label_train, label_test = train_test_split(news, label, test_size = 0.2, random_state = 123)"
      ],
      "metadata": {
        "id": "YCJXfDQIYQWg"
      },
      "execution_count": 19,
      "outputs": []
    },
    {
      "cell_type": "markdown",
      "source": [
        "Tokenizer dataset"
      ],
      "metadata": {
        "id": "DoJjxfN9ZTTV"
      }
    },
    {
      "cell_type": "code",
      "source": [
        "tokenizer = Tokenizer(num_words = length, oov_token = '<OOV>')\n",
        "tokenizer.fit_on_texts(news_train)\n",
        "tokenizer.fit_on_texts(news_test)\n",
        "\n",
        "sequences_train = tokenizer.texts_to_sequences(news_train)\n",
        "sequences_test = tokenizer.texts_to_sequences(news_test)\n",
        "\n",
        "padded_train = pad_sequences(sequences_train,\n",
        "                             maxlen = 5,\n",
        "                             padding = 'post',\n",
        "                             truncating = 'post')\n",
        "padded_test = pad_sequences(sequences_test,\n",
        "                            maxlen = 5,\n",
        "                            padding = 'post',\n",
        "                            truncating = 'post')\n",
        "\n",
        "padded_train"
      ],
      "metadata": {
        "id": "1HMq0sPoYmWZ",
        "colab": {
          "base_uri": "https://localhost:8080/"
        },
        "outputId": "97a4174d-4456-4185-f1e1-48bb9f71d54f"
      },
      "execution_count": 25,
      "outputs": [
        {
          "output_type": "execute_result",
          "data": {
            "text/plain": [
              "array([[  33,    1, 1458,   50,  360],\n",
              "       [  54,    5,    1,   83,  166],\n",
              "       [   2,  313,    4,  662,    5],\n",
              "       ...,\n",
              "       [ 797,    2,  192,  234,    1],\n",
              "       [   1, 1047,    5,  896,   24],\n",
              "       [   3, 2227,    4,   69,   14]], dtype=int32)"
            ]
          },
          "metadata": {},
          "execution_count": 25
        }
      ]
    },
    {
      "cell_type": "markdown",
      "source": [
        "use sequential model"
      ],
      "metadata": {
        "id": "i1n1lhzAU9Ed"
      }
    },
    {
      "cell_type": "code",
      "source": [
        "model = tf.keras.Sequential([\n",
        "    tf.keras.layers.Embedding(input_dim=10000, output_dim=16),\n",
        "    tf.keras.layers.LSTM(64),\n",
        "    tf.keras.layers.Dense(254, activation='relu'),\n",
        "    tf.keras.layers.Dense(128, activation= 'relu'),\n",
        "    tf.keras.layers.Dense(4, activation='softmax')\n",
        "])"
      ],
      "metadata": {
        "id": "Tj4FFbjbZOpx"
      },
      "execution_count": 34,
      "outputs": []
    },
    {
      "cell_type": "code",
      "source": [
        "#compile\n",
        "\n",
        "model.compile(loss ='categorical_crossentropy',\n",
        "              optimizer = 'adam',\n",
        "              metrics = ['accuracy'])"
      ],
      "metadata": {
        "id": "ZrVEn5VviuAg"
      },
      "execution_count": 35,
      "outputs": []
    },
    {
      "cell_type": "code",
      "source": [
        "#cek model\n",
        "\n",
        "model.summary()"
      ],
      "metadata": {
        "colab": {
          "base_uri": "https://localhost:8080/"
        },
        "id": "IhumDT--kQft",
        "outputId": "d1b88587-d338-4c7e-8e9d-ad930b4736b2"
      },
      "execution_count": 36,
      "outputs": [
        {
          "output_type": "stream",
          "name": "stdout",
          "text": [
            "Model: \"sequential_2\"\n",
            "_________________________________________________________________\n",
            " Layer (type)                Output Shape              Param #   \n",
            "=================================================================\n",
            " embedding_2 (Embedding)     (None, None, 16)          160000    \n",
            "                                                                 \n",
            " lstm_2 (LSTM)               (None, 64)                20736     \n",
            "                                                                 \n",
            " dense_6 (Dense)             (None, 254)               16510     \n",
            "                                                                 \n",
            " dense_7 (Dense)             (None, 128)               32640     \n",
            "                                                                 \n",
            " dense_8 (Dense)             (None, 4)                 516       \n",
            "                                                                 \n",
            "=================================================================\n",
            "Total params: 230,402\n",
            "Trainable params: 230,402\n",
            "Non-trainable params: 0\n",
            "_________________________________________________________________\n"
          ]
        }
      ]
    },
    {
      "cell_type": "code",
      "source": [
        "#Callback Function\n",
        "class accCallback(Callback):\n",
        "   def on_epoch_end(self, epoch, logs={}):\n",
        "        if(logs.get('accuracy') >= 0.98 and logs.get('val_accuracy') >= 0.98):\n",
        "            print(\"\\nAccuracy and Val_Accuracy has reached 90%!\", \"\\nEpoch: \", epoch)\n",
        "            self.model.stop_training = True\n",
        "\n",
        "callbacks = accCallback()\n",
        "\n",
        "auto_reduction_LR = ReduceLROnPlateau(\n",
        "    monitor = 'val_accuracy',\n",
        "    patience = 2, #setelah 2 epoch, jika tidak ada kenaikan maka LR berkurang\n",
        "    verbose = 1,\n",
        "    factor = 0.2,\n",
        "    min_lr = 0.000003\n",
        ")\n",
        "\n",
        "auto_stop_learn = EarlyStopping(\n",
        "    monitor = 'val_accuracy',\n",
        "    min_delta = 0,\n",
        "    patience = 4,\n",
        "    verbose = 1,\n",
        "    mode = 'auto' \n",
        ")\n",
        "\n",
        "#latih model\n",
        "history = model.fit(padded_train, label_train,\n",
        "                    steps_per_epoch = 30,\n",
        "                    epochs = 100,\n",
        "                    validation_data = (padded_test, label_test),\n",
        "                    verbose = 1,\n",
        "                    validation_steps = 50,\n",
        "                    callbacks=[callbacks, auto_reduction_LR, auto_stop_learn], \n",
        "                    )"
      ],
      "metadata": {
        "colab": {
          "base_uri": "https://localhost:8080/"
        },
        "id": "ddSYwhu0jUqx",
        "outputId": "2b492d73-2444-4a21-c939-937d2fa707fd"
      },
      "execution_count": 37,
      "outputs": [
        {
          "output_type": "stream",
          "name": "stdout",
          "text": [
            "Epoch 1/100\n",
            "30/30 [==============================] - 6s 129ms/step - loss: 1.3054 - accuracy: 0.4056 - val_loss: 1.1493 - val_accuracy: 0.6179 - lr: 0.0010\n",
            "Epoch 2/100\n",
            "30/30 [==============================] - 3s 111ms/step - loss: 0.8792 - accuracy: 0.6803 - val_loss: 0.7145 - val_accuracy: 0.7246 - lr: 0.0010\n",
            "Epoch 3/100\n",
            "30/30 [==============================] - 3s 113ms/step - loss: 0.6370 - accuracy: 0.7476 - val_loss: 0.6042 - val_accuracy: 0.7692 - lr: 0.0010\n",
            "Epoch 4/100\n",
            "30/30 [==============================] - 3s 111ms/step - loss: 0.5457 - accuracy: 0.7928 - val_loss: 0.5556 - val_accuracy: 0.7883 - lr: 0.0010\n",
            "Epoch 5/100\n",
            "30/30 [==============================] - 3s 112ms/step - loss: 0.5083 - accuracy: 0.8049 - val_loss: 0.5416 - val_accuracy: 0.7942 - lr: 0.0010\n",
            "Epoch 6/100\n",
            "30/30 [==============================] - 3s 112ms/step - loss: 0.4955 - accuracy: 0.8087 - val_loss: 0.5389 - val_accuracy: 0.7941 - lr: 0.0010\n",
            "Epoch 7/100\n",
            "30/30 [==============================] - 3s 111ms/step - loss: 0.4889 - accuracy: 0.8107 - val_loss: 0.5389 - val_accuracy: 0.7950 - lr: 0.0010\n",
            "Epoch 8/100\n",
            "30/30 [==============================] - 3s 111ms/step - loss: 0.4853 - accuracy: 0.8116 - val_loss: 0.5374 - val_accuracy: 0.7952 - lr: 0.0010\n",
            "Epoch 9/100\n",
            "30/30 [==============================] - 3s 113ms/step - loss: 0.4820 - accuracy: 0.8117 - val_loss: 0.5369 - val_accuracy: 0.7956 - lr: 0.0010\n",
            "Epoch 10/100\n",
            "30/30 [==============================] - 3s 110ms/step - loss: 0.4797 - accuracy: 0.8124 - val_loss: 0.5380 - val_accuracy: 0.7958 - lr: 0.0010\n",
            "Epoch 11/100\n",
            "30/30 [==============================] - 3s 111ms/step - loss: 0.4773 - accuracy: 0.8133 - val_loss: 0.5389 - val_accuracy: 0.7942 - lr: 0.0010\n",
            "Epoch 12/100\n",
            "30/30 [==============================] - ETA: 0s - loss: 0.4753 - accuracy: 0.8132\n",
            "Epoch 12: ReduceLROnPlateau reducing learning rate to 0.00020000000949949026.\n",
            "30/30 [==============================] - 4s 130ms/step - loss: 0.4753 - accuracy: 0.8132 - val_loss: 0.5391 - val_accuracy: 0.7951 - lr: 0.0010\n",
            "Epoch 13/100\n",
            "30/30 [==============================] - 5s 151ms/step - loss: 0.4683 - accuracy: 0.8166 - val_loss: 0.5371 - val_accuracy: 0.7957 - lr: 2.0000e-04\n",
            "Epoch 14/100\n",
            "30/30 [==============================] - 5s 159ms/step - loss: 0.4669 - accuracy: 0.8169 - val_loss: 0.5380 - val_accuracy: 0.7964 - lr: 2.0000e-04\n",
            "Epoch 15/100\n",
            "30/30 [==============================] - 3s 112ms/step - loss: 0.4662 - accuracy: 0.8177 - val_loss: 0.5390 - val_accuracy: 0.7964 - lr: 2.0000e-04\n",
            "Epoch 16/100\n",
            "30/30 [==============================] - ETA: 0s - loss: 0.4661 - accuracy: 0.8175\n",
            "Epoch 16: ReduceLROnPlateau reducing learning rate to 4.0000001899898055e-05.\n",
            "30/30 [==============================] - 3s 112ms/step - loss: 0.4661 - accuracy: 0.8175 - val_loss: 0.5389 - val_accuracy: 0.7964 - lr: 2.0000e-04\n",
            "Epoch 17/100\n",
            "30/30 [==============================] - 3s 112ms/step - loss: 0.4643 - accuracy: 0.8181 - val_loss: 0.5381 - val_accuracy: 0.7967 - lr: 4.0000e-05\n",
            "Epoch 18/100\n",
            "30/30 [==============================] - 3s 112ms/step - loss: 0.4642 - accuracy: 0.8184 - val_loss: 0.5382 - val_accuracy: 0.7965 - lr: 4.0000e-05\n",
            "Epoch 19/100\n",
            "30/30 [==============================] - ETA: 0s - loss: 0.4639 - accuracy: 0.8182\n",
            "Epoch 19: ReduceLROnPlateau reducing learning rate to 8.000000525498762e-06.\n",
            "30/30 [==============================] - 3s 111ms/step - loss: 0.4639 - accuracy: 0.8182 - val_loss: 0.5383 - val_accuracy: 0.7966 - lr: 4.0000e-05\n",
            "Epoch 20/100\n",
            "30/30 [==============================] - 3s 110ms/step - loss: 0.4636 - accuracy: 0.8184 - val_loss: 0.5383 - val_accuracy: 0.7966 - lr: 8.0000e-06\n",
            "Epoch 21/100\n",
            "30/30 [==============================] - ETA: 0s - loss: 0.4636 - accuracy: 0.8184\n",
            "Epoch 21: ReduceLROnPlateau reducing learning rate to 3e-06.\n",
            "30/30 [==============================] - 3s 111ms/step - loss: 0.4636 - accuracy: 0.8184 - val_loss: 0.5383 - val_accuracy: 0.7965 - lr: 8.0000e-06\n",
            "Epoch 21: early stopping\n"
          ]
        }
      ]
    },
    {
      "cell_type": "code",
      "source": [
        "#plotting\n",
        "\n",
        "pd.DataFrame(history.history).plot(figsize=(7, 4))\n",
        "plt.grid(True)\n",
        "plt.gca().set_ylim(0,3) #sumbu y\n",
        "\n",
        "plt.show()"
      ],
      "metadata": {
        "colab": {
          "base_uri": "https://localhost:8080/",
          "height": 269
        },
        "id": "BgfORoJkjr4Y",
        "outputId": "a8cbda8b-9809-4549-cd68-0a5207b9be4f"
      },
      "execution_count": 38,
      "outputs": [
        {
          "output_type": "display_data",
          "data": {
            "text/plain": [
              "<Figure size 504x288 with 1 Axes>"
            ],
            "image/png": "[encoded data removed]"
          },
          "metadata": {
            "needs_background": "light"
          }
        }
      ]
    },
    {
      "cell_type": "markdown",
      "source": [
        "Because accuracy not increase significantly and stop in 81%, we can conclude this model is OK but still need improvement. "
      ],
      "metadata": {
        "id": "Q85q_Ez7ues9"
      }
    }
  ]
}